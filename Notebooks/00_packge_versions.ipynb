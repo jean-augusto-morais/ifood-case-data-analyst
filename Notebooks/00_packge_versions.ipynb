{
 "cells": [
  {
   "cell_type": "markdown",
   "id": "e0ac46a7-136f-4ad9-a24c-33a57d5169c6",
   "metadata": {},
   "source": [
    "## Version of the main packages used in this project"
   ]
  },
  {
   "cell_type": "code",
   "execution_count": 3,
   "id": "2df2f665-bab0-4603-b3f3-cbc0d21c3b79",
   "metadata": {},
   "outputs": [
    {
     "name": "stdout",
     "output_type": "stream",
     "text": [
      "Versions of the packages:\n",
      "\n",
      "-------------------- | ----------\n",
      "      Package        |  Version  \n",
      "-------------------- | ----------\n",
      "Imbalanced-Learn     |     0.12.3\n",
      "Matplotlib           |      3.9.2\n",
      "NumPy                |     1.26.4\n",
      "Pandas               |      2.2.2\n",
      "Scikit-Learn         |      1.5.1\n",
      "Seaborn              |     0.13.2\n",
      "\n",
      "Python version: 3.12.7\n"
     ]
    }
   ],
   "source": [
    "import pandas as pd\n",
    "import matplotlib\n",
    "import seaborn as sns\n",
    "import numpy as np\n",
    "import sklearn\n",
    "import imblearn\n",
    "from platform import python_version\n",
    "\n",
    "\n",
    "\n",
    "\n",
    "packages = {\n",
    "    \"Pandas\": pd,\n",
    "    \"Matplotlib\": matplotlib,\n",
    "    \"Seaborn\": sns,\n",
    "    \"NumPy\": np,\n",
    "    \"Scikit-Learn\": sklearn,\n",
    "    \"Imbalanced-Learn\":imblearn,\n",
    "}\n",
    "\n",
    "print(\"Versions of the packages:\\n\")\n",
    "print(f\"{'':-^20} | {'':-^10}\")\n",
    "print(f\"{'Package':^20} | {'Version':^10}\")\n",
    "print(f\"{'':-^20} | {'':-^10}\")\n",
    "\n",
    "for name, package in sorted(packages.items()):\n",
    "    print(f\"{name:<20} | {package.__version__:>10}\")\n",
    "\n",
    "print()\n",
    "print(f\"Python version: {python_version()}\")\n"
   ]
  },
  {
   "cell_type": "code",
   "execution_count": null,
   "id": "76b5e3b3-a58c-45f2-a81b-93fe913b9966",
   "metadata": {},
   "outputs": [],
   "source": []
  }
 ],
 "metadata": {
  "kernelspec": {
   "display_name": "Python 3 (ipykernel)",
   "language": "python",
   "name": "python3"
  },
  "language_info": {
   "codemirror_mode": {
    "name": "ipython",
    "version": 3
   },
   "file_extension": ".py",
   "mimetype": "text/x-python",
   "name": "python",
   "nbconvert_exporter": "python",
   "pygments_lexer": "ipython3",
   "version": "3.12.7"
  }
 },
 "nbformat": 4,
 "nbformat_minor": 5
}
